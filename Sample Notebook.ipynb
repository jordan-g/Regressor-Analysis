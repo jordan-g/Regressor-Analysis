{
 "cells": [
  {
   "cell_type": "code",
   "execution_count": 1,
   "metadata": {},
   "outputs": [],
   "source": [
    "%load_ext autoreload\n",
    "%matplotlib inline\n",
    "%autoreload 2"
   ]
  },
  {
   "cell_type": "code",
   "execution_count": 2,
   "metadata": {},
   "outputs": [],
   "source": [
    "import numpy as np\n",
    "import matplotlib.pyplot as plt\n",
    "import ipywidgets as widgets\n",
    "from ipywidgets import interactive\n",
    "\n",
    "from regressor_analysis import *"
   ]
  },
  {
   "cell_type": "code",
   "execution_count": 3,
   "metadata": {},
   "outputs": [],
   "source": [
    "calcium_video_fname   = \"/Users/jordan/Downloads/Regressor Analysis/May.1.19_huc6f_5dpf_PAG_lv30_1A_z_0_mc.tif\"\n",
    "roi_data_fname        = \"/Users/jordan/Downloads/Regressor Analysis/May.1.19_huc6f_5dpf_PAG_lv30_1A_z_0_mc/roi_data.npy\"\n",
    "bout_fname            = \"/Users/jordan/Downloads/Regressor Analysis/May.1.19_1A_behaviors.csv\"\n",
    "frame_timestamp_fname = \"/Users/jordan/Downloads/Regressor Analysis/2019.9.17 1A - timestamps.txt\""
   ]
  },
  {
   "cell_type": "code",
   "execution_count": 4,
   "metadata": {},
   "outputs": [],
   "source": [
    "calcium_fps         = 3\n",
    "tail_fps            = 349.0\n",
    "tail_calcium_offset = 0"
   ]
  },
  {
   "cell_type": "code",
   "execution_count": 5,
   "metadata": {},
   "outputs": [],
   "source": [
    "(correlation_results, regression_coefficients,\n",
    " regression_intercepts, regression_scores, regressors,\n",
    " spatial_footprints, temporal_footprints,\n",
    " calcium_video, mean_images, n_frames, roi_centers) = regressor_analysis(calcium_video_fname, roi_data_fname, bout_fname,\n",
    "                                                                         frame_timestamp_fname, tail_calcium_offset)"
   ]
  },
  {
   "cell_type": "code",
   "execution_count": 6,
   "metadata": {
    "scrolled": false
   },
   "outputs": [
    {
     "data": {
      "application/vnd.jupyter.widget-view+json": {
       "model_id": "93931f7a4e9145769420fbd06799d618",
       "version_major": 2,
       "version_minor": 0
      },
      "text/plain": [
       "interactive(children=(IntSlider(value=0, description='z', max=0), FloatSlider(value=0.255, description='max_p'…"
      ]
     },
     "metadata": {},
     "output_type": "display_data"
    }
   ],
   "source": [
    "def show_correlation_plot(z, max_p, regressor):\n",
    "    plot_correlation(correlation_results, regressors, spatial_footprints, temporal_footprints, calcium_video, mean_images, n_frames, roi_centers, z, max_p, regressor, fig=None)\n",
    "    plt.show()\n",
    "    \n",
    "interactive_plot = interactive(show_correlation_plot, z=(0, calcium_video.shape[1]-1), max_p=(0.01, 0.5), regressor=(0, len(regressors)-1))\n",
    "output = interactive_plot.children[-1]\n",
    "interactive_plot"
   ]
  },
  {
   "cell_type": "code",
   "execution_count": 7,
   "metadata": {},
   "outputs": [
    {
     "data": {
      "application/vnd.jupyter.widget-view+json": {
       "model_id": "7293c9f4590c4d8ba65dad5a2315d397",
       "version_major": 2,
       "version_minor": 0
      },
      "text/plain": [
       "Label(value='Select which regressors to use for multilinear regression:')"
      ]
     },
     "metadata": {},
     "output_type": "display_data"
    },
    {
     "data": {
      "application/vnd.jupyter.widget-view+json": {
       "model_id": "995ba9102f524ef0bff709a0b00a5e23",
       "version_major": 2,
       "version_minor": 0
      },
      "text/plain": [
       "HBox(children=(Checkbox(value=True, description='Swim'), Checkbox(value=True, description='Struggle'), Checkbo…"
      ]
     },
     "metadata": {},
     "output_type": "display_data"
    }
   ],
   "source": [
    "display(widgets.Label(\"Select which regressors to use for multilinear regression:\"))\n",
    "keys = list(regressors.keys())\n",
    "checkboxes = []\n",
    "for i in range(len(keys)):\n",
    "    w = widgets.Checkbox(\n",
    "        value=True,\n",
    "        description=keys[i],\n",
    "        disabled=False\n",
    "    )\n",
    "#     display(w)\n",
    "    checkboxes.append(w)\n",
    "box = widgets.HBox(children=checkboxes, width='200px', layout=widgets.Layout(flex_flow='row wrap'))\n",
    "display(box)"
   ]
  },
  {
   "cell_type": "code",
   "execution_count": 8,
   "metadata": {},
   "outputs": [
    {
     "data": {
      "application/vnd.jupyter.widget-view+json": {
       "model_id": "3c20f5b7fa2c4b86a9e559d34288755c",
       "version_major": 2,
       "version_minor": 0
      },
      "text/plain": [
       "interactive(children=(IntSlider(value=0, description='z', max=0), Output()), _dom_classes=('widget-interact',)…"
      ]
     },
     "metadata": {},
     "output_type": "display_data"
    }
   ],
   "source": [
    "def show_multilinear_regression_plot(z):\n",
    "    # check which regressors are selected\n",
    "    selected_keys = [ keys[i] for i in range(len(keys)) if checkboxes[i].value ]\n",
    "    selected_regressors = {k:regressors[k] for k in selected_keys if k in regressors}\n",
    "    \n",
    "    regression_coefficients, regression_intercepts, regression_scores = multilinear_regression(selected_regressors, temporal_footprints)\n",
    "    \n",
    "    plot_multilinear_regression(regression_coefficients, regression_intercepts, regression_scores, selected_regressors, spatial_footprints, temporal_footprints, calcium_video, mean_images, n_frames, roi_centers, z, fig=None)\n",
    "    plt.show()\n",
    "    \n",
    "interactive_plot = interactive(show_multilinear_regression_plot, z=(0, calcium_video.shape[1]-1))\n",
    "output = interactive_plot.children[-1]\n",
    "interactive_plot"
   ]
  },
  {
   "cell_type": "code",
   "execution_count": null,
   "metadata": {},
   "outputs": [],
   "source": []
  },
  {
   "cell_type": "code",
   "execution_count": null,
   "metadata": {},
   "outputs": [],
   "source": []
  }
 ],
 "metadata": {
  "kernelspec": {
   "display_name": "Python 3",
   "language": "python",
   "name": "python3"
  },
  "language_info": {
   "codemirror_mode": {
    "name": "ipython",
    "version": 3
   },
   "file_extension": ".py",
   "mimetype": "text/x-python",
   "name": "python",
   "nbconvert_exporter": "python",
   "pygments_lexer": "ipython3",
   "version": "3.7.4"
  }
 },
 "nbformat": 4,
 "nbformat_minor": 2
}
